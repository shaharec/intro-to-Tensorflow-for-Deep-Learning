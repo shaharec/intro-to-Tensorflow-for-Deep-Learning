{
  "nbformat": 4,
  "nbformat_minor": 0,
  "metadata": {
    "colab": {
      "name": "l02c01_celsius_to_fahrenheit",
      "provenance": [],
      "collapsed_sections": [],
      "authorship_tag": "ABX9TyM70rccmdkwAfO3MGhigkAo",
      "include_colab_link": true
    },
    "kernelspec": {
      "name": "python3",
      "display_name": "Python 3"
    }
  },
  "cells": [
    {
      "cell_type": "markdown",
      "metadata": {
        "id": "view-in-github",
        "colab_type": "text"
      },
      "source": [
        "<a href=\"https://colab.research.google.com/github/shaharec/intro-to-Tensorflow-for-Deep-Learning/blob/master/l02c01_celsius_to_fahrenheit.ipynb\" target=\"_parent\"><img src=\"https://colab.research.google.com/assets/colab-badge.svg\" alt=\"Open In Colab\"/></a>"
      ]
    },
    {
      "cell_type": "markdown",
      "metadata": {
        "id": "AgRBL7m_KZuc",
        "colab_type": "text"
      },
      "source": [
        "# Import dependencies\n",
        "first import tenserflow as tf' \n",
        "then import numpy as np.\n",
        "\n",
        "\n"
      ]
    },
    {
      "cell_type": "code",
      "metadata": {
        "id": "NJcczEAoKLQc",
        "colab_type": "code",
        "colab": {}
      },
      "source": [
        "import tensorflow as tf\n",
        "import numpy as np"
      ],
      "execution_count": null,
      "outputs": []
    },
    {
      "cell_type": "code",
      "metadata": {
        "id": "lScqZ-RLK4bh",
        "colab_type": "code",
        "colab": {}
      },
      "source": [
        "import logging\n",
        "logger = tf.get_logger()\n",
        "logger.setLevel(logging.ERROR)"
      ],
      "execution_count": null,
      "outputs": []
    },
    {
      "cell_type": "markdown",
      "metadata": {
        "id": "utGocGwWLaQB",
        "colab_type": "text"
      },
      "source": [
        "# Set up training data\n",
        "we will give training samples to the function of celciuse to fahrenheit\n",
        "$$ f = c \\times 1.8 + 32 $$"
      ]
    },
    {
      "cell_type": "code",
      "metadata": {
        "id": "FCnBooYuLlki",
        "colab_type": "code",
        "colab": {
          "base_uri": "https://localhost:8080/",
          "height": 145
        },
        "outputId": "4dbd14e8-99e5-4d42-cfc0-1b816b8d69a9"
      },
      "source": [
        "cel_q = np.array([-40, -10, 0,   8, 15, 22,  38],dtype = float)\n",
        "fer_a = np.array([-40,  14, 32, 46, 59, 72, 100],dtype = float)\n",
        "\n",
        "for i,c in enumerate(cel_q):\n",
        "  print(\"{} degree celsius = {} degree Fahrenheit\".format(c,fer_a[i]))"
      ],
      "execution_count": null,
      "outputs": [
        {
          "output_type": "stream",
          "text": [
            "-40.0 degree celsius = -40.0 degree Fahrenheit\n",
            "-10.0 degree celsius = 14.0 degree Fahrenheit\n",
            "0.0 degree celsius = 32.0 degree Fahrenheit\n",
            "8.0 degree celsius = 46.0 degree Fahrenheit\n",
            "15.0 degree celsius = 59.0 degree Fahrenheit\n",
            "22.0 degree celsius = 72.0 degree Fahrenheit\n",
            "38.0 degree celsius = 100.0 degree Fahrenheit\n"
          ],
          "name": "stdout"
        }
      ]
    },
    {
      "cell_type": "markdown",
      "metadata": {
        "id": "sCtig3W6M1m-",
        "colab_type": "text"
      },
      "source": [
        "**Features =** the features are the inputs -> celcius degree.\n",
        "\n",
        "**Lables =** this is the output that we want to recive for every input, in this exaple is the degree in fahrenheit\n",
        "**Exaples =**  A pair of inputs/outputs used during training. In our case a pair of values from celsius_q and fahrenheit_a at a specific index, such as (22,72)."
      ]
    },
    {
      "cell_type": "markdown",
      "metadata": {
        "id": "nmEInDNzNx92",
        "colab_type": "text"
      },
      "source": [
        "# Creat the model\n",
        "after understanding what are we looking for, we will buld a model that can learn from are features the lables.\n",
        "## Build a layer \n",
        "we will build a dense layer by usinf tensorflow Keras API.\n",
        "`tf.keras.layers.Dense` will creat the dense layer.\n",
        "we will need to specify the `input_shape = [1]` , the `units = 1` is the number of neurons in the layes and define how many internal variables we will have in the layer."
      ]
    },
    {
      "cell_type": "code",
      "metadata": {
        "id": "Hy_UOm46O7Xi",
        "colab_type": "code",
        "colab": {}
      },
      "source": [
        "l0 = tf.keras.layers.Dense(input_shape = [1],units = 1)"
      ],
      "execution_count": null,
      "outputs": []
    },
    {
      "cell_type": "markdown",
      "metadata": {
        "id": "9E5TXVUbPdhK",
        "colab_type": "text"
      },
      "source": [
        "# Assemble layers into the modle \n",
        "after the layers is defined we will creat the model by adding to it the layers and the order of them/"
      ]
    },
    {
      "cell_type": "code",
      "metadata": {
        "id": "5L2JCtlRPbY-",
        "colab_type": "code",
        "colab": {}
      },
      "source": [
        "model = tf.keras.Sequential([l0])"
      ],
      "execution_count": null,
      "outputs": []
    },
    {
      "cell_type": "code",
      "metadata": {
        "id": "yoKIl9PWP1c_",
        "colab_type": "code",
        "colab": {}
      },
      "source": [
        "##we could have also creat the model with specifing the layese\n",
        "# For exaple  \n",
        "# modle  = tf.keras.sequential([tf.keras.layers.Dense(input_shape = [1],units = 1)])"
      ],
      "execution_count": null,
      "outputs": []
    },
    {
      "cell_type": "markdown",
      "metadata": {
        "id": "y1gu1gdmQYMS",
        "colab_type": "text"
      },
      "source": [
        "# Compile the modle,with liss and optimizer function\n"
      ]
    },
    {
      "cell_type": "code",
      "metadata": {
        "id": "KMiZovFQQUl_",
        "colab_type": "code",
        "colab": {}
      },
      "source": [
        "model.compile(loss = 'mean_squared_error',\n",
        "              optimizer = tf.keras.optimizers.Adam(0.1))"
      ],
      "execution_count": null,
      "outputs": []
    },
    {
      "cell_type": "markdown",
      "metadata": {
        "id": "7YBgNFzzRYAd",
        "colab_type": "text"
      },
      "source": [
        "#Train the model\n",
        "Trining the model is bu using the method `fit` on the model.\n",
        "parameters:\n",
        "* inputs\n",
        "* outputs\n",
        "* epochs =  how many times the cycle should run.\n",
        "* verbose=  controles gow much output the method produces."
      ]
    },
    {
      "cell_type": "code",
      "metadata": {
        "id": "xMMrTeNURELu",
        "colab_type": "code",
        "colab": {
          "base_uri": "https://localhost:8080/",
          "height": 35
        },
        "outputId": "ba30aaa4-975a-4f0b-e366-7ba18474ae8e"
      },
      "source": [
        "history = model.fit(cel_q,fer_a,epochs = 500,verbose = False)\n",
        "print(\"Finished training\")"
      ],
      "execution_count": null,
      "outputs": [
        {
          "output_type": "stream",
          "text": [
            "Finished training\n"
          ],
          "name": "stdout"
        }
      ]
    },
    {
      "cell_type": "markdown",
      "metadata": {
        "id": "2ayDGA3DSa93",
        "colab_type": "text"
      },
      "source": [
        "#Display training statistics\n",
        "the `fit` method returns a history object. we can use this object to plot how the loss of our model goes down.\n",
        "Weqll using Matplotlib to visualize the data."
      ]
    },
    {
      "cell_type": "code",
      "metadata": {
        "id": "z305u39oSYAz",
        "colab_type": "code",
        "colab": {
          "base_uri": "https://localhost:8080/",
          "height": 297
        },
        "outputId": "e606f87a-8ec9-461b-f000-7853925db007"
      },
      "source": [
        "import matplotlib.pyplot as plt\n",
        "plt.xlabel('Epoch Number')\n",
        "plt.ylabel(\"Loss magnithd\")\n",
        "plt.plot(history.history['loss'])"
      ],
      "execution_count": null,
      "outputs": [
        {
          "output_type": "execute_result",
          "data": {
            "text/plain": [
              "[<matplotlib.lines.Line2D at 0x7f27db84fac8>]"
            ]
          },
          "metadata": {
            "tags": []
          },
          "execution_count": 46
        },
        {
          "output_type": "display_data",
          "data": {
            "image/png": "[encoded data removed]",
            "text/plain": [
              "<Figure size 432x288 with 1 Axes>"
            ]
          },
          "metadata": {
            "tags": [],
            "needs_background": "light"
          }
        }
      ]
    },
    {
      "cell_type": "markdown",
      "metadata": {
        "id": "45GhmMUb3tSM",
        "colab_type": "text"
      },
      "source": [
        "#Use the model to predict values"
      ]
    },
    {
      "cell_type": "code",
      "metadata": {
        "id": "FOMLZ-YQTOb6",
        "colab_type": "code",
        "colab": {
          "base_uri": "https://localhost:8080/",
          "height": 72
        },
        "outputId": "3dbe7558-13a4-4135-c6ac-579f244974c2"
      },
      "source": [
        "print(model.predict([100.0,5,50]))"
      ],
      "execution_count": null,
      "outputs": [
        {
          "output_type": "stream",
          "text": [
            "[[211.33815]\n",
            " [ 38.42426]\n",
            " [120.33084]]\n"
          ],
          "name": "stdout"
        }
      ]
    },
    {
      "cell_type": "markdown",
      "metadata": {
        "id": "2lMaC4Nv5fuf",
        "colab_type": "text"
      },
      "source": [
        "#Looking at the layers weight"
      ]
    },
    {
      "cell_type": "code",
      "metadata": {
        "id": "eTuh58Te5SCy",
        "colab_type": "code",
        "colab": {
          "base_uri": "https://localhost:8080/",
          "height": 55
        },
        "outputId": "0bbae1b6-1712-4c6f-8ac0-ad4d46023ed8"
      },
      "source": [
        "print(\"these are the layers variables: {}\",format(l0.get_weights()))"
      ],
      "execution_count": null,
      "outputs": [
        {
          "output_type": "stream",
          "text": [
            "these are the layers variables: {} [array([[1.8201462]], dtype=float32), array([29.323528], dtype=float32)]\n"
          ],
          "name": "stdout"
        }
      ]
    },
    {
      "cell_type": "markdown",
      "metadata": {
        "id": "obIv-2CZ6G_k",
        "colab_type": "text"
      },
      "source": [
        "the first variable is the theta and the second one is the bias.\n",
        "we can see that the outcome is theta~1.8 and b~32.\n",
        "so our network learnd the equation $f = 1.8x + 32.$  "
      ]
    },
    {
      "cell_type": "markdown",
      "metadata": {
        "id": "qpmZVUCK6xp_",
        "colab_type": "text"
      },
      "source": [
        "## A title expiriment\n",
        "Now we will try adding more layers (more variables)"
      ]
    },
    {
      "cell_type": "code",
      "metadata": {
        "id": "iWoh7IH159CH",
        "colab_type": "code",
        "colab": {
          "base_uri": "https://localhost:8080/",
          "height": 274
        },
        "outputId": "21b122ae-c199-4b8f-dc2c-3c6d382016b6"
      },
      "source": [
        "l0 = tf.keras.layers.Dense(units = 4,input_shape = [1])\n",
        "l1 = tf.keras.layers.Dense(units = 4)\n",
        "l2 = tf.keras.layers.Dense(units = 1)\n",
        "model = tf.keras.Sequential([l0,l1,l2])\n",
        "model.compile(loss ='mean_squared_error',optimizer = tf.keras.optimizers.Adam(0.1))\n",
        "model.fit(cel_q, fer_a, epochs=500, verbose=False)\n",
        "print(\"Finish training\")\n",
        "print(model.predict([100]))\n",
        "print(\"these are the 1 layers variables: {}\",format(l0.get_weights()))\n",
        "print(\"these are the 2 layers variables: {}\",format(l1.get_weights()))\n",
        "print(\"these are the 3 layers variables: {}\",format(l2.get_weights()))"
      ],
      "execution_count": null,
      "outputs": [
        {
          "output_type": "stream",
          "text": [
            "Finish training\n",
            "[[211.74742]]\n",
            "these are the 1 layers variables: {} [array([[ 0.32164514, -0.07713844,  0.53342134, -0.8470354 ]],\n",
            "      dtype=float32), array([-3.086887 , -3.2811823,  3.2332351, -3.6862292], dtype=float32)]\n",
            "these are the 2 layers variables: {} [array([[-0.59589785,  0.88862437,  0.03010455,  0.64851457],\n",
            "       [-0.0069522 , -0.31684032, -0.38055706,  1.0406241 ],\n",
            "       [ 0.8993146 , -0.02264282, -1.1591457 ,  0.24148414],\n",
            "       [-0.48860502,  0.36269182,  0.12757137,  1.1098471 ]],\n",
            "      dtype=float32), array([ 3.4598598, -2.1722772, -2.851028 , -3.540708 ], dtype=float32)]\n",
            "these are the 3 layers variables: {} [array([[ 0.72631603],\n",
            "       [-0.30639184],\n",
            "       [-0.5540111 ],\n",
            "       [-1.3239582 ]], dtype=float32), array([3.5296817], dtype=float32)]\n"
          ],
          "name": "stdout"
        }
      ]
    },
    {
      "cell_type": "code",
      "metadata": {
        "id": "0ovuPWMY89nb",
        "colab_type": "code",
        "colab": {}
      },
      "source": [
        ""
      ],
      "execution_count": null,
      "outputs": []
    }
  ]
}